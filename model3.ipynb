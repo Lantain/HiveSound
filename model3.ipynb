{
 "cells": [
  {
   "cell_type": "code",
   "execution_count": 171,
   "metadata": {},
   "outputs": [],
   "source": [
    "import os\n",
    "from matplotlib import pyplot as plt\n",
    "import tensorflow as tf\n",
    "import tensorflow_io as tfio\n",
    "import librosa\n",
    "import librosa.display as ld\n",
    "import IPython\n",
    "from tensorflow.keras.models import Sequential\n",
    "from tensorflow.keras.layers import Conv2D, Dense, Flatten\n",
    "tf.config.run_functions_eagerly(True)\n",
    "import numpy as np"
   ]
  },
  {
   "cell_type": "code",
   "execution_count": 172,
   "metadata": {},
   "outputs": [],
   "source": [
    "def load_wav_16k_mono(filename):\n",
    "    audio_data, sample_rate = librosa.load(filename.numpy().decode('utf-8'), sr=None, mono=True)\n",
    "    #audio_data, sample_rate = librosa.load(filename, sr=None, mono=True)\n",
    "    audio_data = librosa.resample(audio_data, orig_sr=sample_rate, target_sr=16000)\n",
    "    return tf.convert_to_tensor(audio_data, dtype=tf.float32)\n",
    "\n",
    "@tf.function\n",
    "def preprocess(file_path: str, label: tf.float32):\n",
    "    wav = tf.py_function(load_wav_16k_mono, [file_path], [tf.float32])\n",
    "    # Why 320 and 32?\n",
    "    spectrogram = tf.signal.stft(wav, frame_length=320, frame_step=32)\n",
    "    print(f\"Spec shape: {spectrogram.shape}\")\n",
    "    spectrogram = tf.abs(spectrogram)\n",
    "    print(f\"Spec shape 2: {spectrogram.shape}\")\n",
    "    spectrogram = tf.expand_dims(spectrogram, axis=2)\n",
    "    print(f\"Spec shape 3: {spectrogram.shape}\")\n",
    "    return spectrogram[0], label\n",
    "    "
   ]
  },
  {
   "cell_type": "markdown",
   "metadata": {},
   "source": [
    "# Plot Examples"
   ]
  },
  {
   "cell_type": "code",
   "execution_count": 163,
   "metadata": {},
   "outputs": [
    {
     "ename": "AttributeError",
     "evalue": "'str' object has no attribute 'numpy'",
     "output_type": "error",
     "traceback": [
      "\u001b[0;31m---------------------------------------------------------------------------\u001b[0m",
      "\u001b[0;31mAttributeError\u001b[0m                            Traceback (most recent call last)",
      "Cell \u001b[0;32mIn[163], line 3\u001b[0m\n\u001b[1;32m      1\u001b[0m QUEEN_EXAMPLE \u001b[38;5;241m=\u001b[39m \u001b[38;5;124m\"\u001b[39m\u001b[38;5;124m./queenless/queen/Hive1_12_06_2018_QueenBee_H1_audio___15_00_00_0.wav\u001b[39m\u001b[38;5;124m\"\u001b[39m\n\u001b[1;32m      2\u001b[0m NO_QUEEN_EXAMPLE \u001b[38;5;241m=\u001b[39m \u001b[38;5;124m\"\u001b[39m\u001b[38;5;124m./queenless/no_queen/CJ001 - Missing Queen - Day -  (102)_16.wav\u001b[39m\u001b[38;5;124m\"\u001b[39m\n\u001b[0;32m----> 3\u001b[0m wave \u001b[38;5;241m=\u001b[39m load_wav_16k_mono(QUEEN_EXAMPLE)\n\u001b[1;32m      4\u001b[0m nwave \u001b[38;5;241m=\u001b[39m load_wav_16k_mono(NO_QUEEN_EXAMPLE)\n\u001b[1;32m      5\u001b[0m \u001b[38;5;28mprint\u001b[39m(\u001b[38;5;28mlen\u001b[39m(wave), \u001b[38;5;28mlen\u001b[39m(nwave))\n",
      "Cell \u001b[0;32mIn[162], line 2\u001b[0m, in \u001b[0;36mload_wav_16k_mono\u001b[0;34m(filename)\u001b[0m\n\u001b[1;32m      1\u001b[0m \u001b[38;5;28;01mdef\u001b[39;00m \u001b[38;5;21mload_wav_16k_mono\u001b[39m(filename):\n\u001b[0;32m----> 2\u001b[0m     audio_data, sample_rate \u001b[38;5;241m=\u001b[39m librosa\u001b[38;5;241m.\u001b[39mload(filename\u001b[38;5;241m.\u001b[39mnumpy()\u001b[38;5;241m.\u001b[39mdecode(\u001b[38;5;124m'\u001b[39m\u001b[38;5;124mutf-8\u001b[39m\u001b[38;5;124m'\u001b[39m), sr\u001b[38;5;241m=\u001b[39m\u001b[38;5;28;01mNone\u001b[39;00m, mono\u001b[38;5;241m=\u001b[39m\u001b[38;5;28;01mTrue\u001b[39;00m)\n\u001b[1;32m      3\u001b[0m     \u001b[38;5;66;03m#audio_data, sample_rate = librosa.load(filename, sr=None, mono=True)\u001b[39;00m\n\u001b[1;32m      4\u001b[0m     audio_data \u001b[38;5;241m=\u001b[39m librosa\u001b[38;5;241m.\u001b[39mresample(audio_data, orig_sr\u001b[38;5;241m=\u001b[39msample_rate, target_sr\u001b[38;5;241m=\u001b[39m\u001b[38;5;241m16000\u001b[39m)\n",
      "\u001b[0;31mAttributeError\u001b[0m: 'str' object has no attribute 'numpy'"
     ]
    }
   ],
   "source": [
    "# QUEEN_EXAMPLE = \"./queenless/queen/Hive1_12_06_2018_QueenBee_H1_audio___15_00_00_0.wav\"\n",
    "# NO_QUEEN_EXAMPLE = \"./queenless/no_queen/CJ001 - Missing Queen - Day -  (102)_16.wav\"\n",
    "# wave = load_wav_16k_mono(QUEEN_EXAMPLE)\n",
    "# nwave = load_wav_16k_mono(NO_QUEEN_EXAMPLE)\n",
    "# print(len(wave), len(nwave))\n",
    "# spectrogram = tf.signal.stft(wave, frame_length=320, frame_step=32)\n",
    "# print(f\"Spec shape: {spectrogram.shape}\")\n",
    "# spectrogram = tf.abs(spectrogram)\n",
    "# print(f\"Spec shape 2: {spectrogram.shape}\")\n",
    "# spectrogram = tf.expand_dims(spectrogram, axis=2)\n",
    "# print(f\"Spec shape 3: {spectrogram.shape}\")\n",
    "# spectrogram.shape\n",
    "# print(f\"Spec shape 4: {spectrogram[0].shape}\")"
   ]
  },
  {
   "cell_type": "code",
   "execution_count": 89,
   "metadata": {},
   "outputs": [],
   "source": [
    "# plt.plot(wave)\n",
    "# plt.plot(nwave)\n",
    "# display(IPython.display.Audio(wave, rate = 16000))\n",
    "# plt.show()"
   ]
  },
  {
   "cell_type": "code",
   "execution_count": 173,
   "metadata": {},
   "outputs": [
    {
     "data": {
      "text/plain": [
       "b'./queenless/queen/Hive1_12_06_2018_QueenBee_H1_audio___16_20_00_19.wav'"
      ]
     },
     "execution_count": 173,
     "metadata": {},
     "output_type": "execute_result"
    }
   ],
   "source": [
    "Q = tf.data.Dataset.list_files(\"./queenless/queen/*.wav\")\n",
    "NQ = tf.data.Dataset.list_files(\"./queenless/no_queen/*.wav\")\n",
    "Q.as_numpy_iterator().next()"
   ]
  },
  {
   "cell_type": "code",
   "execution_count": 130,
   "metadata": {},
   "outputs": [],
   "source": [
    "# sp, l = preprocess(Q.shuffle(100).as_numpy_iterator().next(), None)\n",
    "# plt.figure(figsize=(30, 20))\n",
    "# plt.imshow(tf.transpose(sp)[0])\n",
    "# plt.show()"
   ]
  },
  {
   "cell_type": "code",
   "execution_count": 174,
   "metadata": {},
   "outputs": [
    {
     "name": "stdout",
     "output_type": "stream",
     "text": [
      "(b'./queenless/queen/Hive1_12_06_2018_QueenBee_H1_audio___15_20_00_10.wav', 1.0)\n"
     ]
    }
   ],
   "source": [
    "queens = tf.data.Dataset.zip((Q, tf.data.Dataset.from_tensor_slices(tf.ones(len(Q)))))\n",
    "no_queens = tf.data.Dataset.zip((NQ, tf.data.Dataset.from_tensor_slices(tf.ones(len(NQ)))))\n",
    "data = queens.concatenate(no_queens)\n",
    "print(data.take(1).as_numpy_iterator().next())\n",
    "e = data.take(1)"
   ]
  },
  {
   "cell_type": "code",
   "execution_count": 177,
   "metadata": {},
   "outputs": [
    {
     "name": "stdout",
     "output_type": "stream",
     "text": [
      "Spec shape: <unknown>\n",
      "Spec shape 2: <unknown>\n",
      "Spec shape 3: <unknown>\n"
     ]
    },
    {
     "data": {
      "text/plain": [
       "(1991, 1, 257)"
      ]
     },
     "execution_count": 177,
     "metadata": {},
     "output_type": "execute_result"
    }
   ],
   "source": [
    "i = e.map(preprocess)\n",
    "ii = i.as_numpy_iterator().next()\n",
    "ii = np.array(ii[0])\n",
    "ii.shape"
   ]
  },
  {
   "cell_type": "code",
   "execution_count": 160,
   "metadata": {},
   "outputs": [
    {
     "name": "stdout",
     "output_type": "stream",
     "text": [
      "Spec shape: <unknown>\n",
      "Spec shape 2: <unknown>\n",
      "Spec shape 3: <unknown>\n",
      "Shapee: (1991, 1, 257)\n"
     ]
    },
    {
     "data": {
      "text/plain": [
       "<_PrefetchDataset element_spec=(TensorSpec(shape=<unknown>, dtype=tf.float32, name=None), TensorSpec(shape=(None,), dtype=tf.float32, name=None))>"
      ]
     },
     "execution_count": 160,
     "metadata": {},
     "output_type": "execute_result"
    }
   ],
   "source": [
    "\n",
    "\n",
    "data = data.map(preprocess)\n",
    "samples, labels = data.as_numpy_iterator().next()\n",
    "print(f\"Shapee: {samples.shape}\")\n",
    "data = data.cache()\n",
    "data = data.shuffle(1000)\n",
    "data = data.batch(16)\n",
    "data = data.prefetch(8)\n",
    "len(data), len(data) * 0.7\n",
    "data"
   ]
  },
  {
   "cell_type": "code",
   "execution_count": 143,
   "metadata": {},
   "outputs": [
    {
     "name": "stderr",
     "output_type": "stream",
     "text": [
      "2024-02-07 22:12:32.248019: I tensorflow/core/kernels/data/shuffle_dataset_op.cc:422] ShuffleDatasetV3:413: Filling up shuffle buffer (this may take a while): 451 of 1000\n",
      "2024-02-07 22:12:44.086348: I tensorflow/core/kernels/data/shuffle_dataset_op.cc:452] Shuffle buffer filled.\n"
     ]
    },
    {
     "data": {
      "text/plain": [
       "((16, 1991, 1, 257), (16,))"
      ]
     },
     "execution_count": 143,
     "metadata": {},
     "output_type": "execute_result"
    }
   ],
   "source": [
    "train = data.take(43)\n",
    "test = data.take(19)\n",
    "samples, labels = train.as_numpy_iterator().next()\n",
    "samples.shape, labels.shape"
   ]
  },
  {
   "cell_type": "code",
   "execution_count": 144,
   "metadata": {},
   "outputs": [],
   "source": [
    "model = Sequential()\n",
    "model.add(Conv2D(16, (3,3), activation='relu', input_shape=(1991, 257, 1)))\n",
    "model.add(Conv2D(16, (3,3), activation='relu'))\n",
    "model.add(Flatten())\n",
    "model.add(Dense(32, activation='relu'))\n",
    "model.add(Dense(1, activation='sigmoid'))\n",
    "model.compile('Adam', loss='BinaryCrossentropy', metrics=[tf.keras.metrics.Recall(), tf.keras.metrics.Precision()])"
   ]
  },
  {
   "cell_type": "code",
   "execution_count": 145,
   "metadata": {},
   "outputs": [
    {
     "name": "stdout",
     "output_type": "stream",
     "text": [
      "Epoch 1/4\n"
     ]
    },
    {
     "ename": "ValueError",
     "evalue": "Input 0 of layer \"sequential_1\" is incompatible with the layer: expected shape=(None, 1991, 257, 1), found shape=(16, 1991, 1, 257)",
     "output_type": "error",
     "traceback": [
      "\u001b[0;31m---------------------------------------------------------------------------\u001b[0m",
      "\u001b[0;31mValueError\u001b[0m                                Traceback (most recent call last)",
      "Cell \u001b[0;32mIn[145], line 1\u001b[0m\n\u001b[0;32m----> 1\u001b[0m hist \u001b[38;5;241m=\u001b[39m model\u001b[38;5;241m.\u001b[39mfit(train, epochs\u001b[38;5;241m=\u001b[39m\u001b[38;5;241m4\u001b[39m, validation_data\u001b[38;5;241m=\u001b[39mtest)\n",
      "File \u001b[0;32m~/miniconda3/envs/tf/lib/python3.11/site-packages/keras/src/utils/traceback_utils.py:70\u001b[0m, in \u001b[0;36mfilter_traceback.<locals>.error_handler\u001b[0;34m(*args, **kwargs)\u001b[0m\n\u001b[1;32m     67\u001b[0m     filtered_tb \u001b[38;5;241m=\u001b[39m _process_traceback_frames(e\u001b[38;5;241m.\u001b[39m__traceback__)\n\u001b[1;32m     68\u001b[0m     \u001b[38;5;66;03m# To get the full stack trace, call:\u001b[39;00m\n\u001b[1;32m     69\u001b[0m     \u001b[38;5;66;03m# `tf.debugging.disable_traceback_filtering()`\u001b[39;00m\n\u001b[0;32m---> 70\u001b[0m     \u001b[38;5;28;01mraise\u001b[39;00m e\u001b[38;5;241m.\u001b[39mwith_traceback(filtered_tb) \u001b[38;5;28;01mfrom\u001b[39;00m \u001b[38;5;28;01mNone\u001b[39;00m\n\u001b[1;32m     71\u001b[0m \u001b[38;5;28;01mfinally\u001b[39;00m:\n\u001b[1;32m     72\u001b[0m     \u001b[38;5;28;01mdel\u001b[39;00m filtered_tb\n",
      "File \u001b[0;32m~/miniconda3/envs/tf/lib/python3.11/site-packages/keras/src/engine/input_spec.py:298\u001b[0m, in \u001b[0;36massert_input_compatibility\u001b[0;34m(input_spec, inputs, layer_name)\u001b[0m\n\u001b[1;32m    296\u001b[0m \u001b[38;5;28;01mif\u001b[39;00m spec_dim \u001b[38;5;129;01mis\u001b[39;00m \u001b[38;5;129;01mnot\u001b[39;00m \u001b[38;5;28;01mNone\u001b[39;00m \u001b[38;5;129;01mand\u001b[39;00m dim \u001b[38;5;129;01mis\u001b[39;00m \u001b[38;5;129;01mnot\u001b[39;00m \u001b[38;5;28;01mNone\u001b[39;00m:\n\u001b[1;32m    297\u001b[0m     \u001b[38;5;28;01mif\u001b[39;00m spec_dim \u001b[38;5;241m!=\u001b[39m dim:\n\u001b[0;32m--> 298\u001b[0m         \u001b[38;5;28;01mraise\u001b[39;00m \u001b[38;5;167;01mValueError\u001b[39;00m(\n\u001b[1;32m    299\u001b[0m             \u001b[38;5;124mf\u001b[39m\u001b[38;5;124m'\u001b[39m\u001b[38;5;124mInput \u001b[39m\u001b[38;5;132;01m{\u001b[39;00minput_index\u001b[38;5;132;01m}\u001b[39;00m\u001b[38;5;124m of layer \u001b[39m\u001b[38;5;124m\"\u001b[39m\u001b[38;5;132;01m{\u001b[39;00mlayer_name\u001b[38;5;132;01m}\u001b[39;00m\u001b[38;5;124m\"\u001b[39m\u001b[38;5;124m is \u001b[39m\u001b[38;5;124m'\u001b[39m\n\u001b[1;32m    300\u001b[0m             \u001b[38;5;124m\"\u001b[39m\u001b[38;5;124mincompatible with the layer: \u001b[39m\u001b[38;5;124m\"\u001b[39m\n\u001b[1;32m    301\u001b[0m             \u001b[38;5;124mf\u001b[39m\u001b[38;5;124m\"\u001b[39m\u001b[38;5;124mexpected shape=\u001b[39m\u001b[38;5;132;01m{\u001b[39;00mspec\u001b[38;5;241m.\u001b[39mshape\u001b[38;5;132;01m}\u001b[39;00m\u001b[38;5;124m, \u001b[39m\u001b[38;5;124m\"\u001b[39m\n\u001b[1;32m    302\u001b[0m             \u001b[38;5;124mf\u001b[39m\u001b[38;5;124m\"\u001b[39m\u001b[38;5;124mfound shape=\u001b[39m\u001b[38;5;132;01m{\u001b[39;00mdisplay_shape(x\u001b[38;5;241m.\u001b[39mshape)\u001b[38;5;132;01m}\u001b[39;00m\u001b[38;5;124m\"\u001b[39m\n\u001b[1;32m    303\u001b[0m         )\n",
      "\u001b[0;31mValueError\u001b[0m: Input 0 of layer \"sequential_1\" is incompatible with the layer: expected shape=(None, 1991, 257, 1), found shape=(16, 1991, 1, 257)"
     ]
    }
   ],
   "source": [
    "hist = model.fit(train, epochs=4, validation_data=test)"
   ]
  },
  {
   "cell_type": "code",
   "execution_count": null,
   "metadata": {},
   "outputs": [],
   "source": []
  }
 ],
 "metadata": {
  "kernelspec": {
   "display_name": "tf",
   "language": "python",
   "name": "python3"
  },
  "language_info": {
   "codemirror_mode": {
    "name": "ipython",
    "version": 3
   },
   "file_extension": ".py",
   "mimetype": "text/x-python",
   "name": "python",
   "nbconvert_exporter": "python",
   "pygments_lexer": "ipython3",
   "version": "3.11.7"
  }
 },
 "nbformat": 4,
 "nbformat_minor": 2
}
