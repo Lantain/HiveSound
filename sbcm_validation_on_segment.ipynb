{
 "cells": [
  {
   "cell_type": "code",
   "execution_count": 9,
   "metadata": {},
   "outputs": [],
   "source": [
    "import pandas as pd\n",
    "import os\n",
    "from src.dataset import segments_from_audio_file\n",
    "from src.audio import waveform_to_mfcc, waveform_to_spectrogram\n",
    "from src.plots import plot_mfccs\n",
    "import tensorflow as tf\n",
    "import matplotlib.pyplot as plt\n",
    "from matplotlib import cm\n",
    "import numpy as np\n",
    "QUEEN_DIR = './dataset/sbcm_val_big/queen'\n",
    "NOQUEEN_DIR = \"./dataset/sbcm_val_big/noqueen\""
   ]
  },
  {
   "cell_type": "code",
   "execution_count": 3,
   "metadata": {},
   "outputs": [],
   "source": [
    "def dir_mfccs(dir: str):\n",
    "    files = os.listdir(dir)\n",
    "    fm = list()\n",
    "    for f in files:\n",
    "        segments = segments_from_audio_file(dir + '/' + f)\n",
    "        print(f\"Found {len(segments)} segments in {f}\")\n",
    "        file_mfccs = list()\n",
    "        for seg in segments:\n",
    "            print(f\"Processing segment {len(file_mfccs)}\")\n",
    "            mfccs = waveform_to_mfcc(seg)\n",
    "            file_mfccs.append(mfccs)\n",
    "        fm.append(file_mfccs)\n",
    "    return fm"
   ]
  },
  {
   "cell_type": "code",
   "execution_count": 3,
   "metadata": {},
   "outputs": [],
   "source": [
    "queen_files =  os.listdir(QUEEN_DIR)\n",
    "noqueen_files = os.listdir(NOQUEEN_DIR)\n",
    "segments = segments_from_audio_file(QUEEN_DIR + '/' + queen_files[0])"
   ]
  },
  {
   "cell_type": "code",
   "execution_count": 4,
   "metadata": {},
   "outputs": [
    {
     "name": "stderr",
     "output_type": "stream",
     "text": [
      "2024-03-02 21:30:00.063725: I metal_plugin/src/device/metal_device.cc:1154] Metal device set to: Apple M2 Max\n",
      "2024-03-02 21:30:00.063770: I metal_plugin/src/device/metal_device.cc:296] systemMemory: 32.00 GB\n",
      "2024-03-02 21:30:00.063779: I metal_plugin/src/device/metal_device.cc:313] maxCacheSize: 10.67 GB\n",
      "2024-03-02 21:30:00.063830: I tensorflow/core/common_runtime/pluggable_device/pluggable_device_factory.cc:306] Could not identify NUMA node of platform GPU ID 0, defaulting to 0. Your kernel may not have been built with NUMA support.\n",
      "2024-03-02 21:30:00.063874: I tensorflow/core/common_runtime/pluggable_device/pluggable_device_factory.cc:272] Created TensorFlow device (/job:localhost/replica:0/task:0/device:GPU:0 with 0 MB memory) -> physical PluggableDevice (device: 0, name: METAL, pci bus id: <undefined>)\n"
     ]
    }
   ],
   "source": [
    "tensor_segments = [tf.convert_to_tensor(seg.get_array_of_samples(), dtype=tf.float32) for seg in segments]"
   ]
  },
  {
   "cell_type": "code",
   "execution_count": 8,
   "metadata": {},
   "outputs": [
    {
     "name": "stdout",
     "output_type": "stream",
     "text": [
      "a\n",
      "b\n",
      "513 44100\n",
      "MFCCs shape: (341, 16)\n"
     ]
    }
   ],
   "source": [
    "mfcc = waveform_to_mfcc(tensor_segments[0])\n",
    "print('MFCCs shape:', mfcc.shape)"
   ]
  },
  {
   "cell_type": "code",
   "execution_count": 6,
   "metadata": {},
   "outputs": [
    {
     "data": {
      "text/plain": [
       "<matplotlib.image.AxesImage at 0x2eb157850>"
      ]
     },
     "execution_count": 6,
     "metadata": {},
     "output_type": "execute_result"
    },
    {
     "data": {
      "image/png": "[encoded data removed]",
      "text/plain": [
       "<Figure size 640x480 with 1 Axes>"
      ]
     },
     "metadata": {},
     "output_type": "display_data"
    }
   ],
   "source": [
    "\n",
    "plt.imshow(mfcc,  interpolation='nearest', cmap=cm.coolwarm, origin='lower')"
   ]
  },
  {
   "cell_type": "code",
   "execution_count": null,
   "metadata": {},
   "outputs": [],
   "source": []
  }
 ],
 "metadata": {
  "kernelspec": {
   "display_name": "tf",
   "language": "python",
   "name": "python3"
  },
  "language_info": {
   "codemirror_mode": {
    "name": "ipython",
    "version": 3
   },
   "file_extension": ".py",
   "mimetype": "text/x-python",
   "name": "python",
   "nbconvert_exporter": "python",
   "pygments_lexer": "ipython3",
   "version": "3.11.7"
  }
 },
 "nbformat": 4,
 "nbformat_minor": 2
}
